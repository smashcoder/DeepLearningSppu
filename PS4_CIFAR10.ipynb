{
  "nbformat": 4,
  "nbformat_minor": 0,
  "metadata": {
    "colab": {
      "provenance": [],
      "authorship_tag": "ABX9TyMLDBfo8ef8exwHFaZrIHB7"
    },
    "kernelspec": {
      "name": "python3",
      "display_name": "Python 3"
    },
    "language_info": {
      "name": "python"
    }
  },
  "cells": [
    {
      "cell_type": "code",
      "execution_count": null,
      "metadata": {
        "colab": {
          "base_uri": "https://localhost:8080/"
        },
        "id": "z39bAgk686uH",
        "outputId": "8f68394f-a946-45c6-c8f0-e54b6e7f6dd7"
      },
      "outputs": [
        {
          "output_type": "stream",
          "name": "stdout",
          "text": [
            "Epoch 1/20\n",
            "704/704 [==============================] - 6s 7ms/step - loss: 2.3107 - accuracy: 0.0986 - val_loss: 2.3026 - val_accuracy: 0.0952\n",
            "Epoch 2/20\n",
            "704/704 [==============================] - 6s 9ms/step - loss: 2.3027 - accuracy: 0.0971 - val_loss: 2.3028 - val_accuracy: 0.0956\n",
            "Epoch 3/20\n",
            "704/704 [==============================] - 5s 7ms/step - loss: 2.3028 - accuracy: 0.0974 - val_loss: 2.3026 - val_accuracy: 0.0970\n",
            "Epoch 4/20\n",
            "704/704 [==============================] - 5s 8ms/step - loss: 2.3028 - accuracy: 0.0975 - val_loss: 2.3028 - val_accuracy: 0.0972\n",
            "Epoch 5/20\n",
            "704/704 [==============================] - 6s 8ms/step - loss: 2.3027 - accuracy: 0.0969 - val_loss: 2.3029 - val_accuracy: 0.0970\n",
            "Epoch 6/20\n",
            "704/704 [==============================] - 5s 7ms/step - loss: 2.3028 - accuracy: 0.0996 - val_loss: 2.3028 - val_accuracy: 0.0950\n",
            "Epoch 7/20\n",
            "704/704 [==============================] - 6s 9ms/step - loss: 2.3027 - accuracy: 0.0962 - val_loss: 2.3027 - val_accuracy: 0.0958\n",
            "Epoch 8/20\n",
            "704/704 [==============================] - 5s 7ms/step - loss: 2.3027 - accuracy: 0.0969 - val_loss: 2.3029 - val_accuracy: 0.0950\n",
            "Epoch 9/20\n",
            "704/704 [==============================] - 5s 7ms/step - loss: 2.3028 - accuracy: 0.1004 - val_loss: 2.3029 - val_accuracy: 0.0986\n",
            "Epoch 10/20\n",
            "704/704 [==============================] - 6s 9ms/step - loss: 2.3026 - accuracy: 0.0961 - val_loss: 2.2894 - val_accuracy: 0.1208\n",
            "Epoch 11/20\n",
            "704/704 [==============================] - 5s 7ms/step - loss: 2.3027 - accuracy: 0.0984 - val_loss: 2.3027 - val_accuracy: 0.0954\n",
            "Epoch 12/20\n",
            "704/704 [==============================] - 5s 7ms/step - loss: 2.3027 - accuracy: 0.0988 - val_loss: 2.3025 - val_accuracy: 0.0982\n",
            "Epoch 13/20\n",
            "704/704 [==============================] - 6s 8ms/step - loss: 2.3011 - accuracy: 0.1028 - val_loss: 2.3001 - val_accuracy: 0.0994\n",
            "Epoch 14/20\n",
            "704/704 [==============================] - 5s 7ms/step - loss: 2.2624 - accuracy: 0.1216 - val_loss: 2.1813 - val_accuracy: 0.1614\n",
            "Epoch 15/20\n",
            "704/704 [==============================] - 6s 9ms/step - loss: 2.2366 - accuracy: 0.1321 - val_loss: 2.1576 - val_accuracy: 0.1804\n",
            "Epoch 16/20\n",
            "704/704 [==============================] - 5s 7ms/step - loss: 2.2315 - accuracy: 0.1332 - val_loss: 2.1505 - val_accuracy: 0.1820\n",
            "Epoch 17/20\n",
            "704/704 [==============================] - 5s 7ms/step - loss: 2.2308 - accuracy: 0.1379 - val_loss: 2.1500 - val_accuracy: 0.1884\n",
            "Epoch 18/20\n",
            "704/704 [==============================] - 6s 9ms/step - loss: 2.2273 - accuracy: 0.1361 - val_loss: 2.1705 - val_accuracy: 0.1780\n",
            "Epoch 19/20\n",
            "704/704 [==============================] - 5s 7ms/step - loss: 2.2272 - accuracy: 0.1377 - val_loss: 2.1780 - val_accuracy: 0.1680\n",
            "Epoch 20/20\n",
            "704/704 [==============================] - 5s 7ms/step - loss: 2.2253 - accuracy: 0.1394 - val_loss: 2.1622 - val_accuracy: 0.1676\n",
            "313/313 [==============================] - 1s 2ms/step - loss: 2.1595 - accuracy: 0.1720\n",
            "Test Accuracy: 0.1720000058412552\n"
          ]
        }
      ],
      "source": [
        "import tensorflow as tf\n",
        "from tensorflow.keras import layers, models\n",
        "from tensorflow.keras.datasets import cifar10\n",
        "from tensorflow.keras.utils import to_categorical\n",
        "\n",
        "# Load and preprocess the CIFAR-10 dataset\n",
        "(train_images, train_labels), (test_images, test_labels) = cifar10.load_data()\n",
        "\n",
        "# Normalize pixel values to be between 0 and 1\n",
        "train_images, test_images = train_images / 255.0, test_images / 255.0\n",
        "\n",
        "# One-hot encode the labels\n",
        "train_labels = to_categorical(train_labels, num_classes=10)\n",
        "test_labels = to_categorical(test_labels, num_classes=10)\n",
        "\n",
        "# Build a simple feedforward neural network using TensorFlow and Keras\n",
        "model = models.Sequential([\n",
        "    layers.Flatten(input_shape=(32, 32, 3)),  # Flatten the 32x32x3 images\n",
        "    layers.Dense(128, activation='relu'),\n",
        "    layers.Dropout(0.5),\n",
        "    layers.Dense(64, activation='relu'),\n",
        "    layers.Dropout(0.5),\n",
        "    layers.Dense(10, activation='softmax')\n",
        "])\n",
        "\n",
        "# Compile the model\n",
        "model.compile(optimizer='adam',\n",
        "              loss='categorical_crossentropy',\n",
        "              metrics=['accuracy'])\n",
        "\n",
        "# Train the model\n",
        "model.fit(train_images, train_labels, epochs=20, batch_size=64, validation_split=0.1)\n",
        "\n",
        "# Evaluate the model on the test set\n",
        "test_loss, test_acc = model.evaluate(test_images, test_labels)\n",
        "print(f'Test Accuracy: {test_acc}')\n"
      ]
    }
  ]
}