{
  "nbformat": 4,
  "nbformat_minor": 0,
  "metadata": {
    "colab": {
      "provenance": [],
      "authorship_tag": "ABX9TyPIFTByhggEOINQpKQQDt9O"
    },
    "kernelspec": {
      "name": "python3",
      "display_name": "Python 3"
    },
    "language_info": {
      "name": "python"
    }
  },
  "cells": [
    {
      "cell_type": "code",
      "execution_count": 1,
      "metadata": {
        "colab": {
          "base_uri": "https://localhost:8080/"
        },
        "id": "kKWP_q1GRACC",
        "outputId": "d5dc7375-2422-48b3-ac9e-1853d7344139"
      },
      "outputs": [
        {
          "output_type": "stream",
          "name": "stdout",
          "text": [
            "Epoch 0, Loss: 0.3010240861361118\n",
            "Epoch 10, Loss: 0.2518420953295494\n",
            "Epoch 20, Loss: 0.26196773390063605\n",
            "Epoch 30, Loss: 0.25451770647066757\n",
            "Epoch 40, Loss: 0.2617775630947935\n",
            "Epoch 50, Loss: 0.26002481532639665\n",
            "Epoch 60, Loss: 0.2595591892453608\n",
            "Epoch 70, Loss: 0.261874940114073\n",
            "Epoch 80, Loss: 0.25738703897566245\n",
            "Epoch 90, Loss: 0.2533148052306431\n"
          ]
        }
      ],
      "source": [
        "import numpy as np\n",
        "\n",
        "def sigmoid(x):\n",
        "    return 1 / (1 + np.exp(-x))\n",
        "\n",
        "def tanh(x):\n",
        "    return np.tanh(x)\n",
        "\n",
        "def softmax(x):\n",
        "    exp_x = np.exp(x - np.max(x, axis=-1, keepdims=True))\n",
        "    return exp_x / np.sum(exp_x, axis=-1, keepdims=True)\n",
        "\n",
        "def rnn_forward(x, h_prev, Wx, Wh, Wy, bh, by):\n",
        "    h_t = tanh(np.dot(x, Wx) + np.dot(h_prev, Wh) + bh)\n",
        "    y_t = softmax(np.dot(h_t, Wy) + by)\n",
        "    return h_t, y_t\n",
        "\n",
        "def rnn_backward(dy, h, x, h_prev, Wx, Wh, Wy, bh, by):\n",
        "    dh = (1 - h**2) * (dy.dot(Wy.T) + h_prev.dot(Wh.T))\n",
        "    dWx = x.T.dot(dh)\n",
        "    dWh = h_prev.T.dot(dh)\n",
        "    dWy = h.T.dot(dy)\n",
        "    dbh = np.sum(dh, axis=0)\n",
        "    dby = np.sum(dy, axis=0)\n",
        "    return dWx, dWh, dWy, dbh, dby, dh\n",
        "\n",
        "def train_rnn(X, Y, epochs=100, learning_rate=0.01):\n",
        "    np.random.seed(42)\n",
        "\n",
        "    input_size = X.shape[1]\n",
        "    hidden_size = 64\n",
        "    output_size = Y.shape[1]\n",
        "\n",
        "    Wx = np.random.randn(input_size, hidden_size)\n",
        "    Wh = np.random.randn(hidden_size, hidden_size)\n",
        "    Wy = np.random.randn(hidden_size, output_size)\n",
        "    bh = np.zeros((1, hidden_size))\n",
        "    by = np.zeros((1, output_size))\n",
        "\n",
        "    for epoch in range(epochs):\n",
        "        h_prev = np.zeros((1, hidden_size))\n",
        "\n",
        "        for t in range(X.shape[0]):\n",
        "            x_t = X[t].reshape(1, -1)\n",
        "            y_t = Y[t].reshape(1, -1)\n",
        "\n",
        "            # Forward pass\n",
        "            h_t, y_pred = rnn_forward(x_t, h_prev, Wx, Wh, Wy, bh, by)\n",
        "\n",
        "            # Compute loss\n",
        "            loss = -np.sum(y_t * np.log(y_pred))\n",
        "\n",
        "            # Backward pass\n",
        "            dy = y_pred - y_t\n",
        "            dWx, dWh, dWy, dbh, dby, dh_prev = rnn_backward(dy, h_t, x_t, h_prev, Wx, Wh, Wy, bh, by)\n",
        "\n",
        "            # Update weights\n",
        "            Wx -= learning_rate * dWx\n",
        "            Wh -= learning_rate * dWh\n",
        "            Wy -= learning_rate * dWy\n",
        "            bh -= learning_rate * dbh\n",
        "            by -= learning_rate * dby\n",
        "\n",
        "            h_prev = h_t\n",
        "\n",
        "        if epoch % 10 == 0:\n",
        "            print(f\"Epoch {epoch}, Loss: {loss}\")\n",
        "\n",
        "    return Wx, Wh, Wy, bh, by\n",
        "\n",
        "# Dummy data\n",
        "X = np.random.rand(100, 10)\n",
        "Y = np.random.randint(0, 2, size=(100, 2))\n",
        "\n",
        "# One-hot encode Y\n",
        "Y_one_hot = np.zeros((Y.shape[0], 2))\n",
        "Y_one_hot[np.arange(Y.shape[0]), Y[:, 0]] = 1\n",
        "\n",
        "# Training the RNN\n",
        "Wx, Wh, Wy, bh, by = train_rnn(X, Y_one_hot)\n",
        "\n",
        "# Note: This is a very basic example and may not be suitable for complex tasks.\n",
        "# In practice, it's recommended to use deep learning frameworks like TensorFlow or PyTorch\n",
        "# for building and training recurrent neural networks due to their efficiency and ease of use.\n"
      ]
    },
    {
      "cell_type": "code",
      "source": [
        "import numpy as np\n",
        "from sklearn.metrics import accuracy_score, confusion_matrix\n",
        "\n",
        "# ... (previous code remains unchanged)\n",
        "\n",
        "def predict_rnn(X, Wx, Wh, Wy, bh, by):\n",
        "    h_prev = np.zeros((1, Wh.shape[0]))\n",
        "    predictions = []\n",
        "\n",
        "    for t in range(X.shape[0]):\n",
        "        x_t = X[t].reshape(1, -1)\n",
        "        h_t, y_pred = rnn_forward(x_t, h_prev, Wx, Wh, Wy, bh, by)\n",
        "        predictions.append(np.argmax(y_pred))\n",
        "\n",
        "        h_prev = h_t\n",
        "\n",
        "    return np.array(predictions)\n",
        "\n",
        "# Dummy test data\n",
        "X_test = np.random.rand(20, 10)\n",
        "Y_test = np.random.randint(0, 2, size=(20, 2))\n",
        "\n",
        "# One-hot encode Y_test\n",
        "Y_test_one_hot = np.zeros((Y_test.shape[0], 2))\n",
        "Y_test_one_hot[np.arange(Y_test.shape[0]), Y_test[:, 0]] = 1\n",
        "\n",
        "# Make predictions\n",
        "predictions = predict_rnn(X_test, Wx, Wh, Wy, bh, by)\n",
        "\n",
        "# Calculate accuracy\n",
        "accuracy = accuracy_score(Y_test[:, 0], predictions)\n",
        "print(f\"Accuracy: {accuracy}\")\n",
        "\n",
        "# Calculate confusion matrix\n",
        "conf_matrix = confusion_matrix(Y_test[:, 0], predictions)\n",
        "print(\"Confusion Matrix:\")\n",
        "print(conf_matrix)\n"
      ],
      "metadata": {
        "colab": {
          "base_uri": "https://localhost:8080/"
        },
        "id": "S8wO8lhsRYc3",
        "outputId": "5be8bc26-d758-4da2-9fc8-d57bc7e6a8c7"
      },
      "execution_count": 2,
      "outputs": [
        {
          "output_type": "stream",
          "name": "stdout",
          "text": [
            "Accuracy: 0.4\n",
            "Confusion Matrix:\n",
            "[[5 8]\n",
            " [4 3]]\n"
          ]
        }
      ]
    }
  ]
}