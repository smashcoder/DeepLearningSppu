{
  "cells": [
    {
      "cell_type": "code",
      "execution_count": null,
      "id": "b051f48b",
      "metadata": {
        "id": "b051f48b"
      },
      "outputs": [],
      "source": [
        "import pandas as pd\n",
        "import numpy as np\n",
        "import collections\n",
        "import re"
      ]
    },
    {
      "cell_type": "code",
      "execution_count": null,
      "id": "9d4c5b52",
      "metadata": {
        "id": "9d4c5b52"
      },
      "outputs": [],
      "source": [
        "f=open(\"text.txt\")\n",
        "doc1=f.read()\n",
        "f.close()\n",
        "\n"
      ]
    },
    {
      "cell_type": "code",
      "execution_count": null,
      "id": "ca05e471",
      "metadata": {
        "id": "ca05e471",
        "outputId": "af835175-5ee0-4e0b-b93f-ece8f6e5577e"
      },
      "outputs": [
        {
          "data": {
            "text/plain": [
              "'\"It was the best of times,\\nit was the worst of times,\\nit was the age of wisdom,\\nit was the age of foolishness\"'"
            ]
          },
          "execution_count": 3,
          "metadata": {},
          "output_type": "execute_result"
        }
      ],
      "source": [
        "\n",
        "doc1"
      ]
    },
    {
      "cell_type": "code",
      "execution_count": null,
      "id": "83690756",
      "metadata": {
        "id": "83690756"
      },
      "outputs": [],
      "source": [
        "l_doc1 = re.sub(r\"[^a-zA-Z0-9]\", \" \", doc1.lower()).split()\n"
      ]
    },
    {
      "cell_type": "code",
      "execution_count": null,
      "id": "34315914",
      "metadata": {
        "id": "34315914",
        "outputId": "e208e85c-45db-4e91-b4f7-5de8d8ecfab2"
      },
      "outputs": [
        {
          "data": {
            "text/plain": [
              "['it',\n",
              " 'was',\n",
              " 'the',\n",
              " 'best',\n",
              " 'of',\n",
              " 'times',\n",
              " 'it',\n",
              " 'was',\n",
              " 'the',\n",
              " 'worst',\n",
              " 'of',\n",
              " 'times',\n",
              " 'it',\n",
              " 'was',\n",
              " 'the',\n",
              " 'age',\n",
              " 'of',\n",
              " 'wisdom',\n",
              " 'it',\n",
              " 'was',\n",
              " 'the',\n",
              " 'age',\n",
              " 'of',\n",
              " 'foolishness']"
            ]
          },
          "execution_count": 5,
          "metadata": {},
          "output_type": "execute_result"
        }
      ],
      "source": [
        "l_doc1"
      ]
    },
    {
      "cell_type": "code",
      "execution_count": null,
      "id": "3670b227",
      "metadata": {
        "id": "3670b227"
      },
      "outputs": [],
      "source": [
        "l=l_doc1"
      ]
    },
    {
      "cell_type": "code",
      "execution_count": null,
      "id": "d07d96b7",
      "metadata": {
        "id": "d07d96b7",
        "outputId": "c6f4ca0c-e05e-45bd-f376-e9715405e4a3"
      },
      "outputs": [
        {
          "data": {
            "text/plain": [
              "['it',\n",
              " 'was',\n",
              " 'the',\n",
              " 'best',\n",
              " 'of',\n",
              " 'times',\n",
              " 'it',\n",
              " 'was',\n",
              " 'the',\n",
              " 'worst',\n",
              " 'of',\n",
              " 'times',\n",
              " 'it',\n",
              " 'was',\n",
              " 'the',\n",
              " 'age',\n",
              " 'of',\n",
              " 'wisdom',\n",
              " 'it',\n",
              " 'was',\n",
              " 'the',\n",
              " 'age',\n",
              " 'of',\n",
              " 'foolishness']"
            ]
          },
          "execution_count": 7,
          "metadata": {},
          "output_type": "execute_result"
        }
      ],
      "source": [
        "l"
      ]
    },
    {
      "cell_type": "code",
      "execution_count": null,
      "id": "b7da8186",
      "metadata": {
        "id": "b7da8186"
      },
      "outputs": [],
      "source": [
        "wordset=set(l)"
      ]
    },
    {
      "cell_type": "code",
      "execution_count": null,
      "id": "3fe06ad1",
      "metadata": {
        "id": "3fe06ad1",
        "outputId": "142c9618-0c14-4042-c5f1-c3f9941c0b5f"
      },
      "outputs": [
        {
          "data": {
            "text/plain": [
              "{'age',\n",
              " 'best',\n",
              " 'foolishness',\n",
              " 'it',\n",
              " 'of',\n",
              " 'the',\n",
              " 'times',\n",
              " 'was',\n",
              " 'wisdom',\n",
              " 'worst'}"
            ]
          },
          "execution_count": 9,
          "metadata": {},
          "output_type": "execute_result"
        }
      ],
      "source": [
        "wordset"
      ]
    },
    {
      "cell_type": "code",
      "execution_count": null,
      "id": "270262a1",
      "metadata": {
        "id": "270262a1"
      },
      "outputs": [],
      "source": [
        "def calculateBOW(wordset,l_doc):\n",
        "  tf_diz = dict.fromkeys(wordset,0)\n",
        "  for word in l_doc:\n",
        "      tf_diz[word]=l_doc.count(word)\n",
        "  return tf_diz"
      ]
    },
    {
      "cell_type": "code",
      "execution_count": null,
      "id": "5b9de5b8",
      "metadata": {
        "id": "5b9de5b8",
        "outputId": "26d7d3ec-7994-4ef3-d861-90237a95fc05"
      },
      "outputs": [
        {
          "data": {
            "text/html": [
              "<div>\n",
              "<style scoped>\n",
              "    .dataframe tbody tr th:only-of-type {\n",
              "        vertical-align: middle;\n",
              "    }\n",
              "\n",
              "    .dataframe tbody tr th {\n",
              "        vertical-align: top;\n",
              "    }\n",
              "\n",
              "    .dataframe thead th {\n",
              "        text-align: right;\n",
              "    }\n",
              "</style>\n",
              "<table border=\"1\" class=\"dataframe\">\n",
              "  <thead>\n",
              "    <tr style=\"text-align: right;\">\n",
              "      <th></th>\n",
              "      <th>times</th>\n",
              "      <th>wisdom</th>\n",
              "      <th>worst</th>\n",
              "      <th>of</th>\n",
              "      <th>best</th>\n",
              "      <th>foolishness</th>\n",
              "      <th>it</th>\n",
              "      <th>was</th>\n",
              "      <th>age</th>\n",
              "      <th>the</th>\n",
              "    </tr>\n",
              "  </thead>\n",
              "  <tbody>\n",
              "    <tr>\n",
              "      <th>0</th>\n",
              "      <td>2</td>\n",
              "      <td>1</td>\n",
              "      <td>1</td>\n",
              "      <td>4</td>\n",
              "      <td>1</td>\n",
              "      <td>1</td>\n",
              "      <td>4</td>\n",
              "      <td>4</td>\n",
              "      <td>2</td>\n",
              "      <td>4</td>\n",
              "    </tr>\n",
              "  </tbody>\n",
              "</table>\n",
              "</div>"
            ],
            "text/plain": [
              "   times  wisdom  worst  of  best  foolishness  it  was  age  the\n",
              "0      2       1      1   4     1            1   4    4    2    4"
            ]
          },
          "execution_count": 11,
          "metadata": {},
          "output_type": "execute_result"
        }
      ],
      "source": [
        "bow1 = calculateBOW(wordset,l_doc1)\n",
        "df_bow = pd.DataFrame([bow1])\n",
        "df_bow.head()"
      ]
    },
    {
      "cell_type": "code",
      "execution_count": null,
      "id": "4b9607a9",
      "metadata": {
        "id": "4b9607a9"
      },
      "outputs": [],
      "source": [
        "from sklearn.feature_extraction.text import CountVectorizer\n",
        "vectorizer = CountVectorizer()"
      ]
    },
    {
      "cell_type": "code",
      "execution_count": null,
      "id": "83478fe7",
      "metadata": {
        "id": "83478fe7",
        "outputId": "7be845e2-999a-4e7c-8f41-869613b9182c"
      },
      "outputs": [
        {
          "data": {
            "text/html": [
              "<div>\n",
              "<style scoped>\n",
              "    .dataframe tbody tr th:only-of-type {\n",
              "        vertical-align: middle;\n",
              "    }\n",
              "\n",
              "    .dataframe tbody tr th {\n",
              "        vertical-align: top;\n",
              "    }\n",
              "\n",
              "    .dataframe thead th {\n",
              "        text-align: right;\n",
              "    }\n",
              "</style>\n",
              "<table border=\"1\" class=\"dataframe\">\n",
              "  <thead>\n",
              "    <tr style=\"text-align: right;\">\n",
              "      <th></th>\n",
              "      <th>age</th>\n",
              "      <th>best</th>\n",
              "      <th>foolishness</th>\n",
              "      <th>it</th>\n",
              "      <th>of</th>\n",
              "      <th>the</th>\n",
              "      <th>times</th>\n",
              "      <th>was</th>\n",
              "      <th>wisdom</th>\n",
              "      <th>worst</th>\n",
              "    </tr>\n",
              "  </thead>\n",
              "  <tbody>\n",
              "    <tr>\n",
              "      <th>0</th>\n",
              "      <td>2</td>\n",
              "      <td>1</td>\n",
              "      <td>1</td>\n",
              "      <td>4</td>\n",
              "      <td>4</td>\n",
              "      <td>4</td>\n",
              "      <td>2</td>\n",
              "      <td>4</td>\n",
              "      <td>1</td>\n",
              "      <td>1</td>\n",
              "    </tr>\n",
              "  </tbody>\n",
              "</table>\n",
              "</div>"
            ],
            "text/plain": [
              "   age  best  foolishness  it  of  the  times  was  wisdom  worst\n",
              "0    2     1            1   4   4    4      2    4       1      1"
            ]
          },
          "execution_count": 13,
          "metadata": {},
          "output_type": "execute_result"
        }
      ],
      "source": [
        "X = vectorizer.fit_transform([doc1])\n",
        "df_bow_sklearn = pd.DataFrame(X.toarray(),columns=vectorizer.get_feature_names_out())\n",
        "df_bow_sklearn.head()"
      ]
    },
    {
      "cell_type": "code",
      "execution_count": null,
      "id": "e486eeff",
      "metadata": {
        "id": "e486eeff",
        "outputId": "78bba8a0-85df-44f8-e6ef-848f2dfe40dd"
      },
      "outputs": [
        {
          "name": "stdout",
          "output_type": "stream",
          "text": [
            "['age' 'best' 'foolishness' 'it' 'of' 'the' 'times' 'was' 'wisdom' 'worst']\n"
          ]
        }
      ],
      "source": [
        "print(vectorizer.get_feature_names_out())"
      ]
    },
    {
      "cell_type": "code",
      "execution_count": null,
      "id": "509a4989",
      "metadata": {
        "id": "509a4989",
        "outputId": "4d04ad26-c242-4771-f481-958ec9f884f1"
      },
      "outputs": [
        {
          "name": "stderr",
          "output_type": "stream",
          "text": [
            "[nltk_data] Downloading package punkt to\n",
            "[nltk_data]     C:\\Users\\Admin\\AppData\\Roaming\\nltk_data...\n",
            "[nltk_data]   Package punkt is already up-to-date!\n"
          ]
        }
      ],
      "source": [
        "import nltk\n",
        "nltk.download('punkt')\n",
        "import re\n",
        "import numpy as np\n",
        "\n",
        "f= open(\"text.txt\")\n",
        "text=f.read()\n",
        "f.close()\n",
        "dataset = nltk.sent_tokenize(text)\n",
        "for i in range(len(dataset)):\n",
        "    dataset[i] = dataset[i].lower()\n",
        "    dataset[i] = re.sub(r'\\W', ' ', dataset[i])\n",
        "    dataset[i] = re.sub(r'\\s+', ' ', dataset[i])"
      ]
    },
    {
      "cell_type": "code",
      "execution_count": null,
      "id": "298ffbed",
      "metadata": {
        "id": "298ffbed",
        "outputId": "1e11c1c8-32f8-4820-82b3-efeeafc68bbf"
      },
      "outputs": [
        {
          "name": "stdout",
          "output_type": "stream",
          "text": [
            "[' it was the best of times it was the worst of times it was the age of wisdom it was the age of foolishness ']\n"
          ]
        }
      ],
      "source": [
        "print(dataset)"
      ]
    },
    {
      "cell_type": "code",
      "execution_count": null,
      "id": "9455f5b4",
      "metadata": {
        "id": "9455f5b4"
      },
      "outputs": [],
      "source": [
        "word2count = {}\n",
        "for data in dataset:\n",
        "    words = nltk.word_tokenize(data)\n",
        "    for word in words:\n",
        "        if word not in word2count.keys():\n",
        "            word2count[word] = 1\n",
        "        else:\n",
        "            word2count[word] += 1"
      ]
    },
    {
      "cell_type": "code",
      "execution_count": null,
      "id": "eabfb0cc",
      "metadata": {
        "id": "eabfb0cc",
        "outputId": "f81ab81d-f2af-412d-8d03-bf8ce1ac35be"
      },
      "outputs": [
        {
          "data": {
            "text/plain": [
              "{'it': 4,\n",
              " 'was': 4,\n",
              " 'the': 4,\n",
              " 'best': 1,\n",
              " 'of': 4,\n",
              " 'times': 2,\n",
              " 'worst': 1,\n",
              " 'age': 2,\n",
              " 'wisdom': 1,\n",
              " 'foolishness': 1}"
            ]
          },
          "execution_count": 18,
          "metadata": {},
          "output_type": "execute_result"
        }
      ],
      "source": [
        "word2count"
      ]
    },
    {
      "cell_type": "code",
      "execution_count": null,
      "id": "82c41af9",
      "metadata": {
        "id": "82c41af9",
        "outputId": "540358a8-e55e-486f-cf5b-5b214d3e30c9"
      },
      "outputs": [
        {
          "data": {
            "text/plain": [
              "['it',\n",
              " 'was',\n",
              " 'the',\n",
              " 'best',\n",
              " 'of',\n",
              " 'times',\n",
              " 'it',\n",
              " 'was',\n",
              " 'the',\n",
              " 'worst',\n",
              " 'of',\n",
              " 'times',\n",
              " 'it',\n",
              " 'was',\n",
              " 'the',\n",
              " 'age',\n",
              " 'of',\n",
              " 'wisdom',\n",
              " 'it',\n",
              " 'was',\n",
              " 'the',\n",
              " 'age',\n",
              " 'of',\n",
              " 'foolishness']"
            ]
          },
          "execution_count": 19,
          "metadata": {},
          "output_type": "execute_result"
        }
      ],
      "source": [
        "words\n"
      ]
    },
    {
      "cell_type": "code",
      "execution_count": null,
      "id": "c00c6e33",
      "metadata": {
        "id": "c00c6e33",
        "outputId": "4e399fc4-e552-4c9d-9ed8-24a15261dce2"
      },
      "outputs": [
        {
          "data": {
            "text/plain": [
              "24"
            ]
          },
          "execution_count": 20,
          "metadata": {},
          "output_type": "execute_result"
        }
      ],
      "source": [
        "len(words)"
      ]
    },
    {
      "cell_type": "code",
      "execution_count": null,
      "id": "d902df29",
      "metadata": {
        "id": "d902df29"
      },
      "outputs": [],
      "source": [
        "vocab_size = len(wordset)\n",
        "embed_dim = 10\n",
        "context_size = 4"
      ]
    },
    {
      "cell_type": "code",
      "execution_count": null,
      "id": "1d2baf67",
      "metadata": {
        "id": "1d2baf67"
      },
      "outputs": [],
      "source": [
        "word_to_ix = {word: i for i, word in enumerate(wordset)}\n",
        "ix_to_word = {i: word for i, word in enumerate(wordset)}"
      ]
    },
    {
      "cell_type": "code",
      "execution_count": null,
      "id": "f7c3a477",
      "metadata": {
        "id": "f7c3a477",
        "outputId": "30893465-1cc4-43ba-cef2-98c42258ffda"
      },
      "outputs": [
        {
          "data": {
            "text/plain": [
              "{'times': 0,\n",
              " 'wisdom': 1,\n",
              " 'worst': 2,\n",
              " 'of': 3,\n",
              " 'best': 4,\n",
              " 'foolishness': 5,\n",
              " 'it': 6,\n",
              " 'was': 7,\n",
              " 'age': 8,\n",
              " 'the': 9}"
            ]
          },
          "execution_count": 23,
          "metadata": {},
          "output_type": "execute_result"
        }
      ],
      "source": [
        "word_to_ix"
      ]
    },
    {
      "cell_type": "code",
      "execution_count": null,
      "id": "17e9f7e9",
      "metadata": {
        "id": "17e9f7e9",
        "outputId": "daaec6f8-3187-4982-af9c-8580e6eeffe4"
      },
      "outputs": [
        {
          "data": {
            "text/plain": [
              "{0: 'times',\n",
              " 1: 'wisdom',\n",
              " 2: 'worst',\n",
              " 3: 'of',\n",
              " 4: 'best',\n",
              " 5: 'foolishness',\n",
              " 6: 'it',\n",
              " 7: 'was',\n",
              " 8: 'age',\n",
              " 9: 'the'}"
            ]
          },
          "execution_count": 24,
          "metadata": {},
          "output_type": "execute_result"
        }
      ],
      "source": [
        "ix_to_word"
      ]
    },
    {
      "cell_type": "code",
      "execution_count": null,
      "id": "bcd8c11d",
      "metadata": {
        "id": "bcd8c11d",
        "outputId": "e3533bcb-bb9d-4c1c-9956-b839637feaf8"
      },
      "outputs": [
        {
          "name": "stdout",
          "output_type": "stream",
          "text": [
            "[(['it', 'was', 'best', 'of'], 'the'), (['was', 'the', 'of', 'times'], 'best'), (['the', 'best', 'times', 'it'], 'of'), (['best', 'of', 'it', 'was'], 'times'), (['of', 'times', 'was', 'the'], 'it')]\n"
          ]
        }
      ],
      "source": [
        "data = []\n",
        "for i in range(2, len(words) - 2):\n",
        "    context = [words[i - 2], words[i - 1], words[i + 1], words[i + 2]]\n",
        "    target = words[i]\n",
        "    data.append((context, target))\n",
        "print(data[:5])"
      ]
    },
    {
      "cell_type": "code",
      "execution_count": null,
      "id": "c5db665f",
      "metadata": {
        "id": "c5db665f"
      },
      "outputs": [],
      "source": [
        "embeddings =  np.random.random_sample((vocab_size, embed_dim))"
      ]
    },
    {
      "cell_type": "code",
      "execution_count": null,
      "id": "50435d07",
      "metadata": {
        "id": "50435d07",
        "outputId": "04704052-f375-4dcd-e0b1-69ab20807aa6"
      },
      "outputs": [
        {
          "data": {
            "text/plain": [
              "array([[0.12753023, 0.76639246, 0.29417805, 0.49864344, 0.28540891,\n",
              "        0.92335652, 0.61972294, 0.17965863, 0.4250801 , 0.18448583],\n",
              "       [0.09703826, 0.12232292, 0.85303326, 0.40122685, 0.23569324,\n",
              "        0.82317851, 0.63644184, 0.47581106, 0.77180941, 0.66537804],\n",
              "       [0.68367622, 0.92911568, 0.88916762, 0.48583216, 0.89545455,\n",
              "        0.78940721, 0.39992053, 0.62405228, 0.76421368, 0.83536629],\n",
              "       [0.63295587, 0.45902611, 0.99391809, 0.03517299, 0.01835442,\n",
              "        0.72271675, 0.17467742, 0.08446911, 0.86136536, 0.56734413],\n",
              "       [0.51287645, 0.43461977, 0.57727419, 0.81078948, 0.34730064,\n",
              "        0.0345898 , 0.08626206, 0.84012386, 0.65971729, 0.46155289],\n",
              "       [0.14689684, 0.83020539, 0.78939586, 0.20985939, 0.84508367,\n",
              "        0.80390087, 0.85336259, 0.3670765 , 0.78822744, 0.40782549],\n",
              "       [0.59870693, 0.3910413 , 0.95863114, 0.94439944, 0.59314923,\n",
              "        0.83810834, 0.93785667, 0.63267575, 0.14345581, 0.80502364],\n",
              "       [0.36990522, 0.98602854, 0.25859287, 0.59334815, 0.46828443,\n",
              "        0.71213003, 0.36071668, 0.01817179, 0.6104265 , 0.95514791],\n",
              "       [0.39170932, 0.37499056, 0.36249612, 0.94572647, 0.52801138,\n",
              "        0.96632458, 0.10406453, 0.71880103, 0.02251643, 0.80547707],\n",
              "       [0.16538319, 0.82659206, 0.88110698, 0.5128401 , 0.24848713,\n",
              "        0.36411026, 0.62513314, 0.14270828, 0.61285071, 0.65853016]])"
            ]
          },
          "execution_count": 27,
          "metadata": {},
          "output_type": "execute_result"
        }
      ],
      "source": [
        "embeddings"
      ]
    },
    {
      "cell_type": "code",
      "execution_count": null,
      "id": "b5f4b918",
      "metadata": {
        "id": "b5f4b918"
      },
      "outputs": [],
      "source": [
        "def linear(m, theta):\n",
        "    w = theta\n",
        "    return m.dot(w)"
      ]
    },
    {
      "cell_type": "code",
      "execution_count": null,
      "id": "f37e96cd",
      "metadata": {
        "id": "f37e96cd"
      },
      "outputs": [],
      "source": [
        "def log_softmax(x):\n",
        "    e_x = np.exp(x - np.max(x))\n",
        "    return np.log(e_x / e_x.sum())\n",
        "def NLLLoss(logs, targets):\n",
        "    out = logs[range(len(targets)), targets]\n",
        "    return -out.sum()/len(out)"
      ]
    },
    {
      "cell_type": "code",
      "execution_count": null,
      "id": "b68247dd",
      "metadata": {
        "id": "b68247dd"
      },
      "outputs": [],
      "source": [
        "import tensorflow as tf\n",
        "import keras.backend as k\n",
        "from keras.models import Sequential\n",
        "from keras.layers import Dense, Embedding, Lambda"
      ]
    },
    {
      "cell_type": "code",
      "execution_count": null,
      "id": "5078e343",
      "metadata": {
        "id": "5078e343"
      },
      "outputs": [],
      "source": []
    },
    {
      "cell_type": "code",
      "execution_count": null,
      "id": "85b84445",
      "metadata": {
        "id": "85b84445"
      },
      "outputs": [],
      "source": [
        "def log_softmax_crossentropy_with_logits(logits,target):\n",
        "\n",
        "    out = np.zeros_like(logits)\n",
        "    out[np.arange(len(logits)),target] = 1\n",
        "\n",
        "    softmax = np.exp(logits) / np.exp(logits).sum(axis=-1,keepdims=True)\n",
        "\n",
        "    return (- out + softmax) / logits.shape[0]"
      ]
    },
    {
      "cell_type": "code",
      "execution_count": null,
      "id": "821ca3b1",
      "metadata": {
        "id": "821ca3b1"
      },
      "outputs": [],
      "source": [
        "def forward(context_idxs, theta):\n",
        "    m = embeddings[context_idxs].reshape(1, -1)\n",
        "    n = linear(m, theta)\n",
        "    o = log_softmax(n)\n",
        "\n",
        "    return m, n, o"
      ]
    },
    {
      "cell_type": "code",
      "execution_count": null,
      "id": "bc8a0957",
      "metadata": {
        "id": "bc8a0957"
      },
      "outputs": [],
      "source": [
        "def backward(preds, theta, target_idxs):\n",
        "    m, n, o = preds\n",
        "\n",
        "    dlog = log_softmax_crossentropy_with_logits(n, target_idxs)\n",
        "    dw = m.T.dot(dlog)\n",
        "\n",
        "    return dw"
      ]
    },
    {
      "cell_type": "code",
      "execution_count": null,
      "id": "da36e4f2",
      "metadata": {
        "id": "da36e4f2"
      },
      "outputs": [],
      "source": [
        "def optimize(theta, grad, lr=0.03):\n",
        "    theta -= grad * lr\n",
        "    return theta"
      ]
    },
    {
      "cell_type": "code",
      "execution_count": null,
      "id": "4bf069cc",
      "metadata": {
        "id": "4bf069cc"
      },
      "outputs": [],
      "source": [
        "theta = np.random.uniform(-1, 1, ( context_size * embed_dim, vocab_size))"
      ]
    },
    {
      "cell_type": "code",
      "execution_count": null,
      "id": "1a24acf7",
      "metadata": {
        "id": "1a24acf7"
      },
      "outputs": [],
      "source": [
        "epoch_losses = {}\n",
        "\n",
        "for epoch in range(80):\n",
        "\n",
        "    losses =  []\n",
        "\n",
        "    for context, target in data:\n",
        "        context_idxs = np.array([word_to_ix[w] for w in context])\n",
        "        preds = forward(context_idxs, theta)\n",
        "\n",
        "        target_idxs = np.array([word_to_ix[target]])\n",
        "        loss = NLLLoss(preds[-1], target_idxs)\n",
        "\n",
        "        losses.append(loss)\n",
        "\n",
        "        grad = backward(preds, theta, target_idxs)\n",
        "        theta = optimize(theta, grad, lr=0.03)\n",
        "\n",
        "        epoch_losses[epoch] = losses"
      ]
    },
    {
      "cell_type": "code",
      "execution_count": null,
      "id": "6ab62843",
      "metadata": {
        "id": "6ab62843",
        "outputId": "2fad5968-70b0-4b6c-9b2f-4b74a7e09712"
      },
      "outputs": [
        {
          "data": {
            "text/plain": [
              "Text(0, 0.5, 'Losses')"
            ]
          },
          "execution_count": 37,
          "metadata": {},
          "output_type": "execute_result"
        },
        {
          "data": {
            "image/png": "[encoded data removed]",
            "text/plain": [
              "<Figure size 432x288 with 1 Axes>"
            ]
          },
          "metadata": {
            "needs_background": "light"
          },
          "output_type": "display_data"
        }
      ],
      "source": [
        "import matplotlib.pyplot as plt\n",
        "ix = np.arange(0,80)\n",
        "\n",
        "fig = plt.figure()\n",
        "fig.suptitle('Epoch/Losses', fontsize=20)\n",
        "plt.plot(ix,[epoch_losses[i][0] for i in ix])\n",
        "plt.xlabel('Epochs', fontsize=12)\n",
        "plt.ylabel('Losses', fontsize=12)"
      ]
    },
    {
      "cell_type": "code",
      "execution_count": null,
      "id": "9d3f08dd",
      "metadata": {
        "id": "9d3f08dd",
        "outputId": "2dae2472-c0d0-4405-83d0-4157d3337ecd"
      },
      "outputs": [
        {
          "data": {
            "text/plain": [
              "'the'"
            ]
          },
          "execution_count": 38,
          "metadata": {},
          "output_type": "execute_result"
        }
      ],
      "source": [
        "def predict(words):\n",
        "    context_idxs = np.array([word_to_ix[w] for w in words])\n",
        "    preds = forward(context_idxs, theta)\n",
        "    word = ix_to_word[np.argmax(preds[-1])]\n",
        "\n",
        "    return word\n",
        "predict(['it', 'was', 'best', 'of'])"
      ]
    },
    {
      "cell_type": "code",
      "execution_count": null,
      "id": "c9898b5c",
      "metadata": {
        "id": "c9898b5c",
        "outputId": "13e59210-fc7a-416a-9194-289cf5d93890"
      },
      "outputs": [
        {
          "data": {
            "text/plain": [
              "0.95"
            ]
          },
          "execution_count": 39,
          "metadata": {},
          "output_type": "execute_result"
        }
      ],
      "source": [
        "def accuracy():\n",
        "    wrong = 0\n",
        "\n",
        "    for context, target in data:\n",
        "        if(predict(context) != target):\n",
        "            wrong += 1\n",
        "\n",
        "    return (1 - (wrong / len(data)))\n",
        "accuracy()"
      ]
    },
    {
      "cell_type": "code",
      "execution_count": null,
      "id": "05263b83",
      "metadata": {
        "id": "05263b83"
      },
      "outputs": [],
      "source": []
    }
  ],
  "metadata": {
    "kernelspec": {
      "display_name": "Python 3 (ipykernel)",
      "language": "python",
      "name": "python3"
    },
    "language_info": {
      "codemirror_mode": {
        "name": "ipython",
        "version": 3
      },
      "file_extension": ".py",
      "mimetype": "text/x-python",
      "name": "python",
      "nbconvert_exporter": "python",
      "pygments_lexer": "ipython3",
      "version": "3.9.12"
    },
    "colab": {
      "provenance": []
    }
  },
  "nbformat": 4,
  "nbformat_minor": 5
}