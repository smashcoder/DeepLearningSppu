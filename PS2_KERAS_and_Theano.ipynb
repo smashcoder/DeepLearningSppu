{
  "nbformat": 4,
  "nbformat_minor": 0,
  "metadata": {
    "colab": {
      "provenance": [],
      "authorship_tag": "ABX9TyOCCvsx25+PCPT6OQkEyxQr"
    },
    "kernelspec": {
      "name": "python3",
      "display_name": "Python 3"
    },
    "language_info": {
      "name": "python"
    }
  },
  "cells": [
    {
      "cell_type": "code",
      "execution_count": null,
      "metadata": {
        "colab": {
          "base_uri": "https://localhost:8080/"
        },
        "id": "GCwwZjUAz4Iz",
        "outputId": "42e0639f-da22-4e97-ee71-64bda1f59066"
      },
      "outputs": [
        {
          "output_type": "stream",
          "name": "stdout",
          "text": [
            "Epoch 1/20\n",
            "23/23 [==============================] - 3s 51ms/step - loss: 0.7853 - accuracy: 0.4722 - val_loss: 0.7566 - val_accuracy: 0.4750\n",
            "Epoch 2/20\n",
            "23/23 [==============================] - 0s 14ms/step - loss: 0.7633 - accuracy: 0.4750 - val_loss: 0.7363 - val_accuracy: 0.4625\n",
            "Epoch 3/20\n",
            "23/23 [==============================] - 0s 10ms/step - loss: 0.7480 - accuracy: 0.4833 - val_loss: 0.7216 - val_accuracy: 0.4375\n",
            "Epoch 4/20\n",
            "23/23 [==============================] - 0s 9ms/step - loss: 0.7366 - accuracy: 0.4986 - val_loss: 0.7121 - val_accuracy: 0.4375\n",
            "Epoch 5/20\n",
            "23/23 [==============================] - 0s 9ms/step - loss: 0.7279 - accuracy: 0.5042 - val_loss: 0.7062 - val_accuracy: 0.4750\n",
            "Epoch 6/20\n",
            "23/23 [==============================] - 0s 6ms/step - loss: 0.7215 - accuracy: 0.5042 - val_loss: 0.7005 - val_accuracy: 0.5375\n",
            "Epoch 7/20\n",
            "23/23 [==============================] - 0s 7ms/step - loss: 0.7168 - accuracy: 0.5028 - val_loss: 0.6971 - val_accuracy: 0.5500\n",
            "Epoch 8/20\n",
            "23/23 [==============================] - 0s 8ms/step - loss: 0.7126 - accuracy: 0.5056 - val_loss: 0.6946 - val_accuracy: 0.5625\n",
            "Epoch 9/20\n",
            "23/23 [==============================] - 0s 7ms/step - loss: 0.7091 - accuracy: 0.5028 - val_loss: 0.6920 - val_accuracy: 0.5750\n",
            "Epoch 10/20\n",
            "23/23 [==============================] - 0s 6ms/step - loss: 0.7065 - accuracy: 0.5042 - val_loss: 0.6912 - val_accuracy: 0.5750\n",
            "Epoch 11/20\n",
            "23/23 [==============================] - 0s 5ms/step - loss: 0.7038 - accuracy: 0.5000 - val_loss: 0.6899 - val_accuracy: 0.5750\n",
            "Epoch 12/20\n",
            "23/23 [==============================] - 0s 6ms/step - loss: 0.7019 - accuracy: 0.4986 - val_loss: 0.6902 - val_accuracy: 0.5625\n",
            "Epoch 13/20\n",
            "23/23 [==============================] - 0s 6ms/step - loss: 0.6998 - accuracy: 0.5083 - val_loss: 0.6889 - val_accuracy: 0.5875\n",
            "Epoch 14/20\n",
            "23/23 [==============================] - 0s 7ms/step - loss: 0.6978 - accuracy: 0.5139 - val_loss: 0.6887 - val_accuracy: 0.5750\n",
            "Epoch 15/20\n",
            "23/23 [==============================] - 0s 7ms/step - loss: 0.6966 - accuracy: 0.5111 - val_loss: 0.6893 - val_accuracy: 0.5750\n",
            "Epoch 16/20\n",
            "23/23 [==============================] - 0s 5ms/step - loss: 0.6946 - accuracy: 0.5208 - val_loss: 0.6888 - val_accuracy: 0.5750\n",
            "Epoch 17/20\n",
            "23/23 [==============================] - 0s 6ms/step - loss: 0.6936 - accuracy: 0.5222 - val_loss: 0.6893 - val_accuracy: 0.5625\n",
            "Epoch 18/20\n",
            "23/23 [==============================] - 0s 7ms/step - loss: 0.6920 - accuracy: 0.5236 - val_loss: 0.6891 - val_accuracy: 0.5625\n",
            "Epoch 19/20\n",
            "23/23 [==============================] - 0s 7ms/step - loss: 0.6908 - accuracy: 0.5333 - val_loss: 0.6899 - val_accuracy: 0.5625\n",
            "Epoch 20/20\n",
            "23/23 [==============================] - 0s 7ms/step - loss: 0.6899 - accuracy: 0.5361 - val_loss: 0.6902 - val_accuracy: 0.5625\n",
            "7/7 [==============================] - 0s 9ms/step - loss: 0.7141 - accuracy: 0.4600\n",
            "Test Accuracy: 0.46000000834465027\n"
          ]
        }
      ],
      "source": [
        "import numpy as np\n",
        "from keras.models import Sequential\n",
        "from keras.layers import Dense\n",
        "from sklearn.model_selection import train_test_split\n",
        "from sklearn.preprocessing import StandardScaler\n",
        "\n",
        "# Generate sample data\n",
        "np.random.seed(42)\n",
        "X = np.random.rand(1000, 10)\n",
        "y = np.random.randint(2, size=(1000,))\n",
        "\n",
        "# Split the data into training and testing sets\n",
        "X_train, X_test, y_train, y_test = train_test_split(X, y, test_size=0.2, random_state=42)\n",
        "\n",
        "# Standardize the features\n",
        "scaler = StandardScaler()\n",
        "X_train = scaler.fit_transform(X_train)\n",
        "X_test = scaler.transform(X_test)\n",
        "\n",
        "# Build a simple neural network using Keras\n",
        "model = Sequential()\n",
        "model.add(Dense(10, activation='relu', input_dim=X_train.shape[1]))\n",
        "model.add(Dense(1, activation='sigmoid'))\n",
        "\n",
        "# Compile the model\n",
        "model.compile(optimizer='adam', loss='binary_crossentropy', metrics=['accuracy'])\n",
        "\n",
        "# Train the model\n",
        "model.fit(X_train, y_train, epochs=20, batch_size=32, validation_split=0.1)\n",
        "\n",
        "# Evaluate the model on the test set\n",
        "test_loss, test_acc = model.evaluate(X_test, y_test)\n",
        "print(f'Test Accuracy: {test_acc}')\n"
      ]
    },
    {
      "cell_type": "code",
      "source": [
        "# Install older versions of Keras and Theano if needed:\n",
        "# !pip install keras==2.2.5 theano==1.0.4\n",
        "\n",
        "\n",
        "# Set the backend to Theano\n",
        "import os\n",
        "os.environ['KERAS_BACKEND'] = 'theano'\n",
        "\n",
        "import numpy as np\n",
        "from keras.models import Sequential\n",
        "from keras.layers import Dense\n",
        "from sklearn.model_selection import train_test_split\n",
        "from sklearn.preprocessing import StandardScaler\n",
        "\n",
        "# Generate sample data\n",
        "np.random.seed(42)\n",
        "X = np.random.rand(1000, 10)\n",
        "y = np.random.randint(2, size=(1000,))\n",
        "\n",
        "# Split the data into training and testing sets\n",
        "X_train, X_test, y_train, y_test = train_test_split(X, y, test_size=0.2, random_state=42)\n",
        "\n",
        "# Standardize the features\n",
        "scaler = StandardScaler()\n",
        "X_train = scaler.fit_transform(X_train)\n",
        "X_test = scaler.transform(X_test)\n",
        "\n",
        "# Build a simple neural network using Keras with Theano backend\n",
        "model = Sequential()\n",
        "model.add(Dense(10, activation='relu', input_dim=X_train.shape[1]))\n",
        "model.add(Dense(1, activation='sigmoid'))\n",
        "\n",
        "# Compile the model\n",
        "model.compile(optimizer='adam', loss='binary_crossentropy', metrics=['accuracy'])\n",
        "\n",
        "# Train the model\n",
        "model.fit(X_train, y_train, epochs=10, batch_size=32, validation_split=0.1)\n",
        "\n",
        "# Evaluate the model on the test set\n",
        "test_loss, test_acc = model.evaluate(X_test, y_test)\n",
        "print(f'Test Accuracy: {test_acc}')\n"
      ],
      "metadata": {
        "colab": {
          "base_uri": "https://localhost:8080/"
        },
        "id": "DZqnFG4Dz8cL",
        "outputId": "05a48870-f332-49cc-ad61-ba2845d47f8e"
      },
      "execution_count": null,
      "outputs": [
        {
          "output_type": "stream",
          "name": "stdout",
          "text": [
            "Epoch 1/10\n",
            "23/23 [==============================] - 1s 9ms/step - loss: 0.8177 - accuracy: 0.5069 - val_loss: 0.8386 - val_accuracy: 0.4125\n",
            "Epoch 2/10\n",
            "23/23 [==============================] - 0s 4ms/step - loss: 0.7870 - accuracy: 0.5264 - val_loss: 0.8058 - val_accuracy: 0.4250\n",
            "Epoch 3/10\n",
            "23/23 [==============================] - 0s 3ms/step - loss: 0.7643 - accuracy: 0.5153 - val_loss: 0.7779 - val_accuracy: 0.4375\n",
            "Epoch 4/10\n",
            "23/23 [==============================] - 0s 4ms/step - loss: 0.7462 - accuracy: 0.5069 - val_loss: 0.7592 - val_accuracy: 0.4875\n",
            "Epoch 5/10\n",
            "23/23 [==============================] - 0s 3ms/step - loss: 0.7331 - accuracy: 0.5139 - val_loss: 0.7425 - val_accuracy: 0.4750\n",
            "Epoch 6/10\n",
            "23/23 [==============================] - 0s 4ms/step - loss: 0.7235 - accuracy: 0.5236 - val_loss: 0.7303 - val_accuracy: 0.5000\n",
            "Epoch 7/10\n",
            "23/23 [==============================] - 0s 3ms/step - loss: 0.7165 - accuracy: 0.5278 - val_loss: 0.7208 - val_accuracy: 0.5000\n",
            "Epoch 8/10\n",
            "23/23 [==============================] - 0s 4ms/step - loss: 0.7104 - accuracy: 0.5264 - val_loss: 0.7162 - val_accuracy: 0.4750\n",
            "Epoch 9/10\n",
            "23/23 [==============================] - 0s 3ms/step - loss: 0.7067 - accuracy: 0.5319 - val_loss: 0.7091 - val_accuracy: 0.5000\n",
            "Epoch 10/10\n",
            "23/23 [==============================] - 0s 4ms/step - loss: 0.7026 - accuracy: 0.5347 - val_loss: 0.7070 - val_accuracy: 0.5000\n",
            "7/7 [==============================] - 0s 3ms/step - loss: 0.6898 - accuracy: 0.5600\n",
            "Test Accuracy: 0.5600000023841858\n"
          ]
        }
      ]
    }
  ]
}