{
  "nbformat": 4,
  "nbformat_minor": 0,
  "metadata": {
    "colab": {
      "provenance": [],
      "gpuType": "T4"
    },
    "kernelspec": {
      "name": "python3",
      "display_name": "Python 3"
    },
    "language_info": {
      "name": "python"
    },
    "accelerator": "GPU"
  },
  "cells": [
    {
      "cell_type": "code",
      "execution_count": null,
      "metadata": {
        "id": "KvVGBnUzwaTV"
      },
      "outputs": [],
      "source": [
        "from sklearn.preprocessing import LabelBinarizer\n",
        "from sklearn.metrics import classification_report\n",
        "from tensorflow.keras.models import Sequential\n",
        "from tensorflow.keras.layers import Dense\n",
        "from tensorflow.keras.optimizers import SGD\n",
        "from tensorflow.keras.datasets import mnist\n",
        "from tensorflow.keras import backend as K\n",
        "import matplotlib.pyplot as plt\n",
        "import numpy as np\n",
        "import argparse"
      ]
    },
    {
      "cell_type": "code",
      "source": [
        "ap = argparse.ArgumentParser()\n",
        "ap.add_argument(\"-o\", \"--output\", required=True,\n",
        "help=\"path to the output loss/accuracy plot\")\n",
        "args = vars(ap.parse_args())"
      ],
      "metadata": {
        "colab": {
          "base_uri": "https://localhost:8080/",
          "height": 217
        },
        "id": "ySj6zcujweiT",
        "outputId": "7e6974cf-3309-4674-c45b-175d28a72741"
      },
      "execution_count": null,
      "outputs": [
        {
          "output_type": "stream",
          "name": "stderr",
          "text": [
            "usage: ipykernel_launcher.py [-h] -o OUTPUT\n",
            "ipykernel_launcher.py: error: the following arguments are required: -o/--output\n"
          ]
        },
        {
          "output_type": "error",
          "ename": "SystemExit",
          "evalue": "ignored",
          "traceback": [
            "An exception has occurred, use %tb to see the full traceback.\n",
            "\u001b[0;31mSystemExit\u001b[0m\u001b[0;31m:\u001b[0m 2\n"
          ]
        },
        {
          "output_type": "stream",
          "name": "stderr",
          "text": [
            "/usr/local/lib/python3.10/dist-packages/IPython/core/interactiveshell.py:3561: UserWarning: To exit: use 'exit', 'quit', or Ctrl-D.\n",
            "  warn(\"To exit: use 'exit', 'quit', or Ctrl-D.\", stacklevel=1)\n"
          ]
        }
      ]
    },
    {
      "cell_type": "code",
      "source": [
        "print(\"[INFO] accessing MNIST...\")\n",
        "((trainX, trainY), (testX, testY)) = mnist.load_data()"
      ],
      "metadata": {
        "colab": {
          "base_uri": "https://localhost:8080/"
        },
        "id": "--1mZaAdwh8P",
        "outputId": "8fe3a2c8-ddd1-4141-af6e-6544fb6df3d4"
      },
      "execution_count": null,
      "outputs": [
        {
          "output_type": "stream",
          "name": "stdout",
          "text": [
            "[INFO] accessing MNIST...\n",
            "Downloading data from https://storage.googleapis.com/tensorflow/tf-keras-datasets/mnist.npz\n",
            "11490434/11490434 [==============================] - 0s 0us/step\n"
          ]
        }
      ]
    },
    {
      "cell_type": "code",
      "source": [
        "trainX = trainX.reshape((trainX.shape[0], 28 * 28 * 1))\n",
        "testX = testX.reshape((testX.shape[0], 28 * 28 * 1))"
      ],
      "metadata": {
        "id": "EXNPL71fwj-j"
      },
      "execution_count": null,
      "outputs": []
    },
    {
      "cell_type": "code",
      "source": [
        "trainX = trainX.astype(\"float32\") / 255.0\n",
        "testX = testX.astype(\"float32\") / 255.0"
      ],
      "metadata": {
        "id": "C8jtrEjjwkgt"
      },
      "execution_count": null,
      "outputs": []
    },
    {
      "cell_type": "code",
      "source": [
        "lb = LabelBinarizer()\n",
        "trainY = lb.fit_transform(trainY)\n",
        "testY = lb.transform(testY)"
      ],
      "metadata": {
        "id": "kfJFYB7Dwmbo"
      },
      "execution_count": null,
      "outputs": []
    },
    {
      "cell_type": "code",
      "source": [
        "model = Sequential()\n",
        "model.add(Dense(256, input_shape=(784,), activation=\"sigmoid\"))\n",
        "model.add(Dense(128, activation=\"sigmoid\"))\n",
        "model.add(Dense(10, activation=\"softmax\"))"
      ],
      "metadata": {
        "id": "ca5Rf6UmwrrV"
      },
      "execution_count": null,
      "outputs": []
    },
    {
      "cell_type": "code",
      "source": [
        "print(\"[INFO] training network...\")\n",
        "sgd = SGD(0.01)\n",
        "model.compile(loss=\"categorical_crossentropy\", optimizer=sgd,\n",
        "metrics=[\"accuracy\"])\n",
        "H = model.fit(trainX, trainY, validation_data=(testX, testY),\n",
        "epochs=100, batch_size=128)"
      ],
      "metadata": {
        "colab": {
          "base_uri": "https://localhost:8080/"
        },
        "id": "WoRTBBeGwxK0",
        "outputId": "5611f020-ba8d-4d14-9f95-ebf36a3c0659"
      },
      "execution_count": null,
      "outputs": [
        {
          "output_type": "stream",
          "name": "stdout",
          "text": [
            "[INFO] training network...\n",
            "Epoch 1/100\n",
            "469/469 [==============================] - 9s 5ms/step - loss: 2.2697 - accuracy: 0.1949 - val_loss: 2.2357 - val_accuracy: 0.1870\n",
            "Epoch 2/100\n",
            "469/469 [==============================] - 2s 5ms/step - loss: 2.2019 - accuracy: 0.3945 - val_loss: 2.1602 - val_accuracy: 0.6176\n",
            "Epoch 3/100\n",
            "469/469 [==============================] - 2s 4ms/step - loss: 2.1131 - accuracy: 0.5476 - val_loss: 2.0517 - val_accuracy: 0.5597\n",
            "Epoch 4/100\n",
            "469/469 [==============================] - 2s 4ms/step - loss: 1.9846 - accuracy: 0.6136 - val_loss: 1.8952 - val_accuracy: 0.6525\n",
            "Epoch 5/100\n",
            "469/469 [==============================] - 2s 4ms/step - loss: 1.8049 - accuracy: 0.6562 - val_loss: 1.6896 - val_accuracy: 0.6924\n",
            "Epoch 6/100\n",
            "469/469 [==============================] - 2s 4ms/step - loss: 1.5875 - accuracy: 0.6945 - val_loss: 1.4623 - val_accuracy: 0.7245\n",
            "Epoch 7/100\n",
            "469/469 [==============================] - 2s 4ms/step - loss: 1.3701 - accuracy: 0.7301 - val_loss: 1.2574 - val_accuracy: 0.7354\n",
            "Epoch 8/100\n",
            "469/469 [==============================] - 2s 5ms/step - loss: 1.1843 - accuracy: 0.7568 - val_loss: 1.0915 - val_accuracy: 0.7695\n",
            "Epoch 9/100\n",
            "469/469 [==============================] - 2s 4ms/step - loss: 1.0383 - accuracy: 0.7784 - val_loss: 0.9631 - val_accuracy: 0.7943\n",
            "Epoch 10/100\n",
            "469/469 [==============================] - 2s 4ms/step - loss: 0.9260 - accuracy: 0.7951 - val_loss: 0.8646 - val_accuracy: 0.8061\n",
            "Epoch 11/100\n",
            "469/469 [==============================] - 2s 4ms/step - loss: 0.8387 - accuracy: 0.8077 - val_loss: 0.7873 - val_accuracy: 0.8223\n",
            "Epoch 12/100\n",
            "469/469 [==============================] - 2s 4ms/step - loss: 0.7695 - accuracy: 0.8195 - val_loss: 0.7260 - val_accuracy: 0.8332\n",
            "Epoch 13/100\n",
            "469/469 [==============================] - 2s 4ms/step - loss: 0.7138 - accuracy: 0.8289 - val_loss: 0.6752 - val_accuracy: 0.8419\n",
            "Epoch 14/100\n",
            "469/469 [==============================] - 2s 5ms/step - loss: 0.6680 - accuracy: 0.8371 - val_loss: 0.6336 - val_accuracy: 0.8463\n",
            "Epoch 15/100\n",
            "469/469 [==============================] - 2s 5ms/step - loss: 0.6298 - accuracy: 0.8440 - val_loss: 0.5979 - val_accuracy: 0.8530\n",
            "Epoch 16/100\n",
            "469/469 [==============================] - 2s 4ms/step - loss: 0.5975 - accuracy: 0.8497 - val_loss: 0.5691 - val_accuracy: 0.8561\n",
            "Epoch 17/100\n",
            "469/469 [==============================] - 2s 4ms/step - loss: 0.5701 - accuracy: 0.8544 - val_loss: 0.5431 - val_accuracy: 0.8621\n",
            "Epoch 18/100\n",
            "469/469 [==============================] - 2s 4ms/step - loss: 0.5464 - accuracy: 0.8590 - val_loss: 0.5208 - val_accuracy: 0.8680\n",
            "Epoch 19/100\n",
            "469/469 [==============================] - 2s 4ms/step - loss: 0.5256 - accuracy: 0.8636 - val_loss: 0.5018 - val_accuracy: 0.8705\n",
            "Epoch 20/100\n",
            "469/469 [==============================] - 3s 7ms/step - loss: 0.5074 - accuracy: 0.8666 - val_loss: 0.4844 - val_accuracy: 0.8716\n",
            "Epoch 21/100\n",
            "469/469 [==============================] - 2s 4ms/step - loss: 0.4913 - accuracy: 0.8705 - val_loss: 0.4697 - val_accuracy: 0.8748\n",
            "Epoch 22/100\n",
            "469/469 [==============================] - 2s 4ms/step - loss: 0.4770 - accuracy: 0.8731 - val_loss: 0.4558 - val_accuracy: 0.8773\n",
            "Epoch 23/100\n",
            "469/469 [==============================] - 2s 3ms/step - loss: 0.4642 - accuracy: 0.8759 - val_loss: 0.4436 - val_accuracy: 0.8798\n",
            "Epoch 24/100\n",
            "469/469 [==============================] - 2s 4ms/step - loss: 0.4526 - accuracy: 0.8785 - val_loss: 0.4326 - val_accuracy: 0.8828\n",
            "Epoch 25/100\n",
            "469/469 [==============================] - 2s 4ms/step - loss: 0.4421 - accuracy: 0.8807 - val_loss: 0.4231 - val_accuracy: 0.8847\n",
            "Epoch 26/100\n",
            "469/469 [==============================] - 2s 4ms/step - loss: 0.4328 - accuracy: 0.8824 - val_loss: 0.4146 - val_accuracy: 0.8854\n",
            "Epoch 27/100\n",
            "469/469 [==============================] - 2s 5ms/step - loss: 0.4242 - accuracy: 0.8843 - val_loss: 0.4062 - val_accuracy: 0.8882\n",
            "Epoch 28/100\n",
            "469/469 [==============================] - 2s 4ms/step - loss: 0.4163 - accuracy: 0.8858 - val_loss: 0.3989 - val_accuracy: 0.8911\n",
            "Epoch 29/100\n",
            "469/469 [==============================] - 2s 4ms/step - loss: 0.4092 - accuracy: 0.8878 - val_loss: 0.3921 - val_accuracy: 0.8922\n",
            "Epoch 30/100\n",
            "469/469 [==============================] - 2s 4ms/step - loss: 0.4026 - accuracy: 0.8890 - val_loss: 0.3860 - val_accuracy: 0.8933\n",
            "Epoch 31/100\n",
            "469/469 [==============================] - 2s 4ms/step - loss: 0.3966 - accuracy: 0.8899 - val_loss: 0.3804 - val_accuracy: 0.8938\n",
            "Epoch 32/100\n",
            "469/469 [==============================] - 2s 4ms/step - loss: 0.3910 - accuracy: 0.8913 - val_loss: 0.3751 - val_accuracy: 0.8947\n",
            "Epoch 33/100\n",
            "469/469 [==============================] - 2s 5ms/step - loss: 0.3857 - accuracy: 0.8924 - val_loss: 0.3703 - val_accuracy: 0.8966\n",
            "Epoch 34/100\n",
            "469/469 [==============================] - 2s 4ms/step - loss: 0.3810 - accuracy: 0.8934 - val_loss: 0.3654 - val_accuracy: 0.8972\n",
            "Epoch 35/100\n",
            "469/469 [==============================] - 2s 4ms/step - loss: 0.3764 - accuracy: 0.8943 - val_loss: 0.3612 - val_accuracy: 0.8982\n",
            "Epoch 36/100\n",
            "469/469 [==============================] - 2s 4ms/step - loss: 0.3722 - accuracy: 0.8950 - val_loss: 0.3573 - val_accuracy: 0.9001\n",
            "Epoch 37/100\n",
            "469/469 [==============================] - 2s 4ms/step - loss: 0.3683 - accuracy: 0.8960 - val_loss: 0.3538 - val_accuracy: 0.8996\n",
            "Epoch 38/100\n",
            "469/469 [==============================] - 2s 4ms/step - loss: 0.3645 - accuracy: 0.8971 - val_loss: 0.3498 - val_accuracy: 0.9008\n",
            "Epoch 39/100\n",
            "469/469 [==============================] - 2s 4ms/step - loss: 0.3609 - accuracy: 0.8977 - val_loss: 0.3472 - val_accuracy: 0.9027\n",
            "Epoch 40/100\n",
            "469/469 [==============================] - 2s 5ms/step - loss: 0.3576 - accuracy: 0.8984 - val_loss: 0.3440 - val_accuracy: 0.9019\n",
            "Epoch 41/100\n",
            "469/469 [==============================] - 2s 4ms/step - loss: 0.3543 - accuracy: 0.8995 - val_loss: 0.3406 - val_accuracy: 0.9032\n",
            "Epoch 42/100\n",
            "469/469 [==============================] - 2s 4ms/step - loss: 0.3515 - accuracy: 0.8997 - val_loss: 0.3378 - val_accuracy: 0.9028\n",
            "Epoch 43/100\n",
            "469/469 [==============================] - 2s 4ms/step - loss: 0.3485 - accuracy: 0.9004 - val_loss: 0.3353 - val_accuracy: 0.9036\n",
            "Epoch 44/100\n",
            "469/469 [==============================] - 2s 4ms/step - loss: 0.3458 - accuracy: 0.9011 - val_loss: 0.3326 - val_accuracy: 0.9047\n",
            "Epoch 45/100\n",
            "469/469 [==============================] - 2s 4ms/step - loss: 0.3432 - accuracy: 0.9017 - val_loss: 0.3304 - val_accuracy: 0.9051\n",
            "Epoch 46/100\n",
            "469/469 [==============================] - 2s 5ms/step - loss: 0.3407 - accuracy: 0.9024 - val_loss: 0.3279 - val_accuracy: 0.9069\n",
            "Epoch 47/100\n",
            "469/469 [==============================] - 2s 4ms/step - loss: 0.3382 - accuracy: 0.9030 - val_loss: 0.3261 - val_accuracy: 0.9070\n",
            "Epoch 48/100\n",
            "469/469 [==============================] - 2s 4ms/step - loss: 0.3359 - accuracy: 0.9038 - val_loss: 0.3232 - val_accuracy: 0.9080\n",
            "Epoch 49/100\n",
            "469/469 [==============================] - 2s 4ms/step - loss: 0.3337 - accuracy: 0.9040 - val_loss: 0.3213 - val_accuracy: 0.9081\n",
            "Epoch 50/100\n",
            "469/469 [==============================] - 2s 4ms/step - loss: 0.3315 - accuracy: 0.9045 - val_loss: 0.3194 - val_accuracy: 0.9084\n",
            "Epoch 51/100\n",
            "469/469 [==============================] - 2s 4ms/step - loss: 0.3294 - accuracy: 0.9053 - val_loss: 0.3174 - val_accuracy: 0.9092\n",
            "Epoch 52/100\n",
            "469/469 [==============================] - 2s 5ms/step - loss: 0.3274 - accuracy: 0.9054 - val_loss: 0.3159 - val_accuracy: 0.9090\n",
            "Epoch 53/100\n",
            "469/469 [==============================] - 2s 5ms/step - loss: 0.3254 - accuracy: 0.9060 - val_loss: 0.3139 - val_accuracy: 0.9103\n",
            "Epoch 54/100\n",
            "469/469 [==============================] - 2s 4ms/step - loss: 0.3235 - accuracy: 0.9067 - val_loss: 0.3120 - val_accuracy: 0.9108\n",
            "Epoch 55/100\n",
            "469/469 [==============================] - 2s 4ms/step - loss: 0.3217 - accuracy: 0.9072 - val_loss: 0.3106 - val_accuracy: 0.9112\n",
            "Epoch 56/100\n",
            "469/469 [==============================] - 2s 4ms/step - loss: 0.3198 - accuracy: 0.9075 - val_loss: 0.3090 - val_accuracy: 0.9118\n",
            "Epoch 57/100\n",
            "469/469 [==============================] - 2s 4ms/step - loss: 0.3181 - accuracy: 0.9079 - val_loss: 0.3073 - val_accuracy: 0.9124\n",
            "Epoch 58/100\n",
            "469/469 [==============================] - 2s 4ms/step - loss: 0.3164 - accuracy: 0.9086 - val_loss: 0.3061 - val_accuracy: 0.9133\n",
            "Epoch 59/100\n",
            "469/469 [==============================] - 2s 5ms/step - loss: 0.3147 - accuracy: 0.9092 - val_loss: 0.3040 - val_accuracy: 0.9136\n",
            "Epoch 60/100\n",
            "469/469 [==============================] - 2s 4ms/step - loss: 0.3131 - accuracy: 0.9094 - val_loss: 0.3025 - val_accuracy: 0.9151\n",
            "Epoch 61/100\n",
            "469/469 [==============================] - 2s 4ms/step - loss: 0.3115 - accuracy: 0.9099 - val_loss: 0.3014 - val_accuracy: 0.9144\n",
            "Epoch 62/100\n",
            "469/469 [==============================] - 2s 4ms/step - loss: 0.3100 - accuracy: 0.9105 - val_loss: 0.2998 - val_accuracy: 0.9151\n",
            "Epoch 63/100\n",
            "469/469 [==============================] - 2s 4ms/step - loss: 0.3085 - accuracy: 0.9107 - val_loss: 0.2983 - val_accuracy: 0.9154\n",
            "Epoch 64/100\n",
            "469/469 [==============================] - 2s 4ms/step - loss: 0.3070 - accuracy: 0.9112 - val_loss: 0.2971 - val_accuracy: 0.9153\n",
            "Epoch 65/100\n",
            "469/469 [==============================] - 3s 5ms/step - loss: 0.3056 - accuracy: 0.9118 - val_loss: 0.2960 - val_accuracy: 0.9161\n",
            "Epoch 66/100\n",
            "469/469 [==============================] - 2s 4ms/step - loss: 0.3042 - accuracy: 0.9118 - val_loss: 0.2947 - val_accuracy: 0.9155\n",
            "Epoch 67/100\n",
            "469/469 [==============================] - 2s 4ms/step - loss: 0.3028 - accuracy: 0.9120 - val_loss: 0.2934 - val_accuracy: 0.9166\n",
            "Epoch 68/100\n",
            "469/469 [==============================] - 2s 4ms/step - loss: 0.3014 - accuracy: 0.9126 - val_loss: 0.2919 - val_accuracy: 0.9164\n",
            "Epoch 69/100\n",
            "469/469 [==============================] - 2s 4ms/step - loss: 0.3000 - accuracy: 0.9132 - val_loss: 0.2910 - val_accuracy: 0.9170\n",
            "Epoch 70/100\n",
            "469/469 [==============================] - 2s 4ms/step - loss: 0.2987 - accuracy: 0.9135 - val_loss: 0.2896 - val_accuracy: 0.9159\n",
            "Epoch 71/100\n",
            "469/469 [==============================] - 2s 5ms/step - loss: 0.2975 - accuracy: 0.9137 - val_loss: 0.2886 - val_accuracy: 0.9175\n",
            "Epoch 72/100\n",
            "469/469 [==============================] - 2s 5ms/step - loss: 0.2962 - accuracy: 0.9140 - val_loss: 0.2872 - val_accuracy: 0.9180\n",
            "Epoch 73/100\n",
            "469/469 [==============================] - 2s 4ms/step - loss: 0.2950 - accuracy: 0.9143 - val_loss: 0.2861 - val_accuracy: 0.9173\n",
            "Epoch 74/100\n",
            "469/469 [==============================] - 2s 4ms/step - loss: 0.2936 - accuracy: 0.9148 - val_loss: 0.2854 - val_accuracy: 0.9175\n",
            "Epoch 75/100\n",
            "469/469 [==============================] - 2s 4ms/step - loss: 0.2924 - accuracy: 0.9155 - val_loss: 0.2844 - val_accuracy: 0.9179\n",
            "Epoch 76/100\n",
            "469/469 [==============================] - 2s 4ms/step - loss: 0.2913 - accuracy: 0.9157 - val_loss: 0.2830 - val_accuracy: 0.9179\n",
            "Epoch 77/100\n",
            "469/469 [==============================] - 2s 4ms/step - loss: 0.2901 - accuracy: 0.9157 - val_loss: 0.2822 - val_accuracy: 0.9184\n",
            "Epoch 78/100\n",
            "469/469 [==============================] - 2s 5ms/step - loss: 0.2889 - accuracy: 0.9164 - val_loss: 0.2811 - val_accuracy: 0.9188\n",
            "Epoch 79/100\n",
            "469/469 [==============================] - 2s 4ms/step - loss: 0.2878 - accuracy: 0.9166 - val_loss: 0.2797 - val_accuracy: 0.9189\n",
            "Epoch 80/100\n",
            "469/469 [==============================] - 2s 4ms/step - loss: 0.2867 - accuracy: 0.9171 - val_loss: 0.2792 - val_accuracy: 0.9196\n",
            "Epoch 81/100\n",
            "469/469 [==============================] - 2s 4ms/step - loss: 0.2856 - accuracy: 0.9172 - val_loss: 0.2781 - val_accuracy: 0.9195\n",
            "Epoch 82/100\n",
            "469/469 [==============================] - 2s 4ms/step - loss: 0.2845 - accuracy: 0.9175 - val_loss: 0.2770 - val_accuracy: 0.9202\n",
            "Epoch 83/100\n",
            "469/469 [==============================] - 2s 4ms/step - loss: 0.2834 - accuracy: 0.9176 - val_loss: 0.2761 - val_accuracy: 0.9203\n",
            "Epoch 84/100\n",
            "469/469 [==============================] - 2s 5ms/step - loss: 0.2823 - accuracy: 0.9183 - val_loss: 0.2751 - val_accuracy: 0.9210\n",
            "Epoch 85/100\n",
            "469/469 [==============================] - 2s 5ms/step - loss: 0.2813 - accuracy: 0.9183 - val_loss: 0.2742 - val_accuracy: 0.9203\n",
            "Epoch 86/100\n",
            "469/469 [==============================] - 2s 4ms/step - loss: 0.2802 - accuracy: 0.9189 - val_loss: 0.2736 - val_accuracy: 0.9217\n",
            "Epoch 87/100\n",
            "469/469 [==============================] - 2s 4ms/step - loss: 0.2792 - accuracy: 0.9190 - val_loss: 0.2725 - val_accuracy: 0.9212\n",
            "Epoch 88/100\n",
            "469/469 [==============================] - 2s 4ms/step - loss: 0.2781 - accuracy: 0.9190 - val_loss: 0.2714 - val_accuracy: 0.9214\n",
            "Epoch 89/100\n",
            "469/469 [==============================] - 2s 4ms/step - loss: 0.2772 - accuracy: 0.9197 - val_loss: 0.2707 - val_accuracy: 0.9216\n",
            "Epoch 90/100\n",
            "469/469 [==============================] - 2s 4ms/step - loss: 0.2761 - accuracy: 0.9198 - val_loss: 0.2696 - val_accuracy: 0.9223\n",
            "Epoch 91/100\n",
            "469/469 [==============================] - 2s 5ms/step - loss: 0.2751 - accuracy: 0.9202 - val_loss: 0.2687 - val_accuracy: 0.9233\n",
            "Epoch 92/100\n",
            "469/469 [==============================] - 2s 4ms/step - loss: 0.2742 - accuracy: 0.9201 - val_loss: 0.2680 - val_accuracy: 0.9226\n",
            "Epoch 93/100\n",
            "469/469 [==============================] - 2s 4ms/step - loss: 0.2732 - accuracy: 0.9206 - val_loss: 0.2669 - val_accuracy: 0.9223\n",
            "Epoch 94/100\n",
            "469/469 [==============================] - 2s 4ms/step - loss: 0.2723 - accuracy: 0.9211 - val_loss: 0.2660 - val_accuracy: 0.9230\n",
            "Epoch 95/100\n",
            "469/469 [==============================] - 2s 4ms/step - loss: 0.2712 - accuracy: 0.9212 - val_loss: 0.2654 - val_accuracy: 0.9229\n",
            "Epoch 96/100\n",
            "469/469 [==============================] - 2s 4ms/step - loss: 0.2703 - accuracy: 0.9214 - val_loss: 0.2646 - val_accuracy: 0.9236\n",
            "Epoch 97/100\n",
            "469/469 [==============================] - 2s 4ms/step - loss: 0.2694 - accuracy: 0.9219 - val_loss: 0.2640 - val_accuracy: 0.9237\n",
            "Epoch 98/100\n",
            "469/469 [==============================] - 2s 5ms/step - loss: 0.2685 - accuracy: 0.9219 - val_loss: 0.2629 - val_accuracy: 0.9241\n",
            "Epoch 99/100\n",
            "469/469 [==============================] - 2s 4ms/step - loss: 0.2676 - accuracy: 0.9224 - val_loss: 0.2619 - val_accuracy: 0.9240\n",
            "Epoch 100/100\n",
            "469/469 [==============================] - 2s 4ms/step - loss: 0.2667 - accuracy: 0.9225 - val_loss: 0.2611 - val_accuracy: 0.9239\n"
          ]
        }
      ]
    },
    {
      "cell_type": "code",
      "source": [
        "print(\"[INFO] evaluating network...\")\n",
        "predictions = model.predict(testX, batch_size=128)\n",
        "print(classification_report(testY.argmax(axis=1),\n",
        "predictions.argmax(axis=1),\n",
        "target_names=[str(x) for x in lb.classes_]))"
      ],
      "metadata": {
        "colab": {
          "base_uri": "https://localhost:8080/"
        },
        "id": "6MnDkh_Wwzjz",
        "outputId": "1f145816-35f2-4173-a9f8-0da00d11b975"
      },
      "execution_count": null,
      "outputs": [
        {
          "output_type": "stream",
          "name": "stdout",
          "text": [
            "[INFO] evaluating network...\n",
            "79/79 [==============================] - 0s 2ms/step\n",
            "              precision    recall  f1-score   support\n",
            "\n",
            "           0       0.94      0.98      0.96       980\n",
            "           1       0.97      0.98      0.97      1135\n",
            "           2       0.93      0.90      0.91      1032\n",
            "           3       0.90      0.91      0.90      1010\n",
            "           4       0.92      0.94      0.93       982\n",
            "           5       0.90      0.86      0.88       892\n",
            "           6       0.94      0.94      0.94       958\n",
            "           7       0.93      0.93      0.93      1028\n",
            "           8       0.90      0.89      0.89       974\n",
            "           9       0.91      0.90      0.91      1009\n",
            "\n",
            "    accuracy                           0.92     10000\n",
            "   macro avg       0.92      0.92      0.92     10000\n",
            "weighted avg       0.92      0.92      0.92     10000\n",
            "\n"
          ]
        }
      ]
    },
    {
      "cell_type": "code",
      "source": [
        "plt.style.use(\"ggplot\")\n",
        "plt.figure()\n",
        "plt.plot(np.arange(0, 100), H.history[\"loss\"], label=\"train_loss\")\n",
        "plt.plot(np.arange(0, 100), H.history[\"val_loss\"], label=\"val_loss\")\n",
        "plt.plot(np.arange(0, 100), H.history[\"accuracy\"], label=\"train_acc\")\n",
        "plt.plot(np.arange(0, 100), H.history[\"val_accuracy\"], label=\"val_acc\")\n",
        "plt.title(\"Training Loss and Accuracy\")\n",
        "plt.xlabel(\"Epoch #\")\n",
        "plt.ylabel(\"Loss/Accuracy\")\n",
        "plt.legend()\n",
        "plt.savefig(args[\"output\"])"
      ],
      "metadata": {
        "colab": {
          "base_uri": "https://localhost:8080/",
          "height": 674
        },
        "id": "rj5XvI43w3kx",
        "outputId": "300a65e7-cf82-4e3a-e369-860814ac0d90"
      },
      "execution_count": null,
      "outputs": [
        {
          "output_type": "error",
          "ename": "NameError",
          "evalue": "ignored",
          "traceback": [
            "\u001b[0;31m---------------------------------------------------------------------------\u001b[0m",
            "\u001b[0;31mNameError\u001b[0m                                 Traceback (most recent call last)",
            "\u001b[0;32m<ipython-input-11-aaeb64b0293c>\u001b[0m in \u001b[0;36m<cell line: 11>\u001b[0;34m()\u001b[0m\n\u001b[1;32m      9\u001b[0m \u001b[0mplt\u001b[0m\u001b[0;34m.\u001b[0m\u001b[0mylabel\u001b[0m\u001b[0;34m(\u001b[0m\u001b[0;34m\"Loss/Accuracy\"\u001b[0m\u001b[0;34m)\u001b[0m\u001b[0;34m\u001b[0m\u001b[0;34m\u001b[0m\u001b[0m\n\u001b[1;32m     10\u001b[0m \u001b[0mplt\u001b[0m\u001b[0;34m.\u001b[0m\u001b[0mlegend\u001b[0m\u001b[0;34m(\u001b[0m\u001b[0;34m)\u001b[0m\u001b[0;34m\u001b[0m\u001b[0;34m\u001b[0m\u001b[0m\n\u001b[0;32m---> 11\u001b[0;31m \u001b[0mplt\u001b[0m\u001b[0;34m.\u001b[0m\u001b[0msavefig\u001b[0m\u001b[0;34m(\u001b[0m\u001b[0margs\u001b[0m\u001b[0;34m[\u001b[0m\u001b[0;34m\"output\"\u001b[0m\u001b[0;34m]\u001b[0m\u001b[0;34m)\u001b[0m\u001b[0;34m\u001b[0m\u001b[0;34m\u001b[0m\u001b[0m\n\u001b[0m",
            "\u001b[0;31mNameError\u001b[0m: name 'args' is not defined"
          ]
        },
        {
          "output_type": "display_data",
          "data": {
            "text/plain": [
              "<Figure size 640x480 with 1 Axes>"
            ],
            "image/png": "[encoded data removed]"
          },
          "metadata": {}
        }
      ]
    }
  ]
}